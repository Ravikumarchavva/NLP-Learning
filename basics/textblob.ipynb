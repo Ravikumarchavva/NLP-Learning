{
 "cells": [
  {
   "cell_type": "code",
   "execution_count": 7,
   "metadata": {},
   "outputs": [
    {
     "name": "stdout",
     "output_type": "stream",
     "text": [
      "Sentiment(polarity=0.30625, subjectivity=0.75)\n",
      "Sentiment(polarity=0.8, subjectivity=1.0)\n",
      "Sentiment(polarity=1.0, subjectivity=1.0)\n"
     ]
    }
   ],
   "source": [
    "from textblob import TextBlob\n",
    "\n",
    "phrase1 = \"I am little happy\"\n",
    "phrase2 = \"I am happy\"\n",
    "phrase3 = \"I am very happy\"\n",
    "\n",
    "blob1 = TextBlob(phrase1)\n",
    "blob2 = TextBlob(phrase2)\n",
    "blob3 = TextBlob(phrase3)\n",
    "print(blob1.sentiment)\n",
    "print(blob2.sentiment)\n",
    "print(blob3.sentiment)"
   ]
  },
  {
   "cell_type": "markdown",
   "metadata": {},
   "source": [
    "# Spell Correct"
   ]
  },
  {
   "cell_type": "code",
   "execution_count": 11,
   "metadata": {},
   "outputs": [
    {
     "name": "stdout",
     "output_type": "stream",
     "text": [
      "I am happy\n"
     ]
    }
   ],
   "source": [
    "spell_phrase = \"I am happi\"\n",
    "spell_blob = TextBlob(spell_phrase)\n",
    "print(spell_blob.correct())"
   ]
  },
  {
   "cell_type": "code",
   "execution_count": 14,
   "metadata": {},
   "outputs": [
    {
     "data": {
      "text/plain": [
       "[('I', 'PRP'), ('am', 'VBP'), ('happi', 'JJ')]"
      ]
     },
     "execution_count": 14,
     "metadata": {},
     "output_type": "execute_result"
    }
   ],
   "source": [
    "spell_blob.pos_tags"
   ]
  },
  {
   "cell_type": "code",
   "execution_count": 20,
   "metadata": {},
   "outputs": [
    {
     "name": "stdout",
     "output_type": "stream",
     "text": [
      "Sentiment(polarity=0.0, subjectivity=0.0)\n",
      "[('i', 'NN'), ('read', 'VBD'), ('the', 'DT'), ('book', 'NN')]\n",
      "Sentiment(polarity=0.6, subjectivity=1.0)\n",
      "[('i', 'NN'), ('read', 'VBP'), ('the', 'DT'), ('nice', 'JJ'), ('book', 'NN')]\n",
      "Sentiment(polarity=-0.2, subjectivity=0.8)\n",
      "[('i', 'NN'), ('read', 'VBP'), ('the', 'DT'), ('shit', 'JJ'), ('book', 'NN')]\n"
     ]
    }
   ],
   "source": [
    "phrase1 = 'i read the book'\n",
    "phrase2 = 'i read the nice book'\n",
    "phrase3 = 'i read the shit book'\n",
    "blob1 = TextBlob(phrase1)\n",
    "blob2 = TextBlob(phrase2)\n",
    "blob3 = TextBlob(phrase3)\n",
    "print(blob1.sentiment)\n",
    "print(blob1.pos_tags)\n",
    "print(blob2.sentiment)\n",
    "print(blob2.pos_tags)\n",
    "print(blob3.sentiment)\n",
    "print(blob3.pos_tags)"
   ]
  },
  {
   "cell_type": "code",
   "execution_count": null,
   "metadata": {},
   "outputs": [],
   "source": []
  }
 ],
 "metadata": {
  "kernelspec": {
   "display_name": "nlp",
   "language": "python",
   "name": "python3"
  },
  "language_info": {
   "codemirror_mode": {
    "name": "ipython",
    "version": 3
   },
   "file_extension": ".py",
   "mimetype": "text/x-python",
   "name": "python",
   "nbconvert_exporter": "python",
   "pygments_lexer": "ipython3",
   "version": "3.10.15"
  }
 },
 "nbformat": 4,
 "nbformat_minor": 2
}
