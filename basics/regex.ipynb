{
 "cells": [
  {
   "cell_type": "code",
   "execution_count": 5,
   "metadata": {},
   "outputs": [
    {
     "name": "stdout",
     "output_type": "stream",
     "text": [
      "Matched: ab\n",
      "Matched: acb\n",
      "Matched: a123b\n",
      "Matched: a123b,456\n"
     ]
    }
   ],
   "source": [
    "import re\n",
    "\n",
    "regex = re.compile(r\"^a.*b\\b\")\n",
    "examples = [\"ab\", \"acb\", \"a123b\", \"a123b,456\", \"a123b456c\", \"a123b456c789\"]\n",
    "\n",
    "for example in examples:\n",
    "    if regex.search(example):\n",
    "        print(f\"Matched: {example}\")"
   ]
  },
  {
   "cell_type": "code",
   "execution_count": 9,
   "metadata": {},
   "outputs": [
    {
     "name": "stdout",
     "output_type": "stream",
     "text": [
      "Matched: this is book.\n",
      "Matched: song\n"
     ]
    }
   ],
   "source": [
    "import re\n",
    "\n",
    "# Corrected regex pattern\n",
    "regex = re.compile(r\"\\bbook\\b|\\bsong\\b\")\n",
    "\n",
    "examples = [\"this is book.\", \"bookstore\", \"song\", \"songwriter\", \"textbook\", \"songbook\"]\n",
    "\n",
    "for example in examples:\n",
    "    if regex.search(example):\n",
    "        print(f\"Matched: {example}\")\n"
   ]
  },
  {
   "cell_type": "code",
   "execution_count": null,
   "metadata": {},
   "outputs": [],
   "source": []
  }
 ],
 "metadata": {
  "kernelspec": {
   "display_name": "nlp",
   "language": "python",
   "name": "python3"
  },
  "language_info": {
   "codemirror_mode": {
    "name": "ipython",
    "version": 3
   },
   "file_extension": ".py",
   "mimetype": "text/x-python",
   "name": "python",
   "nbconvert_exporter": "python",
   "pygments_lexer": "ipython3",
   "version": "3.10.15"
  }
 },
 "nbformat": 4,
 "nbformat_minor": 2
}
