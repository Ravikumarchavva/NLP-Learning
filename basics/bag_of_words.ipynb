{
 "cells": [
  {
   "cell_type": "code",
   "execution_count": 48,
   "metadata": {},
   "outputs": [
    {
     "data": {
      "text/html": [
       "<div>\n",
       "<style scoped>\n",
       "    .dataframe tbody tr th:only-of-type {\n",
       "        vertical-align: middle;\n",
       "    }\n",
       "\n",
       "    .dataframe tbody tr th {\n",
       "        vertical-align: top;\n",
       "    }\n",
       "\n",
       "    .dataframe thead th {\n",
       "        text-align: right;\n",
       "    }\n",
       "</style>\n",
       "<table border=\"1\" class=\"dataframe\">\n",
       "  <thead>\n",
       "    <tr style=\"text-align: right;\">\n",
       "      <th></th>\n",
       "      <th>text</th>\n",
       "      <th>sentiment</th>\n",
       "    </tr>\n",
       "  </thead>\n",
       "  <tbody>\n",
       "    <tr>\n",
       "      <th>0</th>\n",
       "      <td>I love books.</td>\n",
       "      <td>books</td>\n",
       "    </tr>\n",
       "    <tr>\n",
       "      <th>1</th>\n",
       "      <td>I hate shoes.</td>\n",
       "      <td>shoes</td>\n",
       "    </tr>\n",
       "    <tr>\n",
       "      <th>2</th>\n",
       "      <td>Books are great.</td>\n",
       "      <td>books</td>\n",
       "    </tr>\n",
       "    <tr>\n",
       "      <th>3</th>\n",
       "      <td>Shoes are uncomfortable.</td>\n",
       "      <td>shoes</td>\n",
       "    </tr>\n",
       "    <tr>\n",
       "      <th>4</th>\n",
       "      <td>Books bring joy.</td>\n",
       "      <td>books</td>\n",
       "    </tr>\n",
       "    <tr>\n",
       "      <th>5</th>\n",
       "      <td>Shoes make me tired.</td>\n",
       "      <td>shoes</td>\n",
       "    </tr>\n",
       "    <tr>\n",
       "      <th>6</th>\n",
       "      <td>I read books daily.</td>\n",
       "      <td>books</td>\n",
       "    </tr>\n",
       "    <tr>\n",
       "      <th>7</th>\n",
       "      <td>Shoes hurt my feet.</td>\n",
       "      <td>shoes</td>\n",
       "    </tr>\n",
       "    <tr>\n",
       "      <th>8</th>\n",
       "      <td>Reading books is fun.</td>\n",
       "      <td>books</td>\n",
       "    </tr>\n",
       "    <tr>\n",
       "      <th>9</th>\n",
       "      <td>Shoes are too tight.</td>\n",
       "      <td>shoes</td>\n",
       "    </tr>\n",
       "    <tr>\n",
       "      <th>10</th>\n",
       "      <td>Books are my passion.</td>\n",
       "      <td>books</td>\n",
       "    </tr>\n",
       "    <tr>\n",
       "      <th>11</th>\n",
       "      <td>Shoes are not my style.</td>\n",
       "      <td>shoes</td>\n",
       "    </tr>\n",
       "    <tr>\n",
       "      <th>12</th>\n",
       "      <td>Books help me learn.</td>\n",
       "      <td>books</td>\n",
       "    </tr>\n",
       "    <tr>\n",
       "      <th>13</th>\n",
       "      <td>Shoes are expensive.</td>\n",
       "      <td>shoes</td>\n",
       "    </tr>\n",
       "    <tr>\n",
       "      <th>14</th>\n",
       "      <td>I enjoy reading books.</td>\n",
       "      <td>books</td>\n",
       "    </tr>\n",
       "    <tr>\n",
       "      <th>15</th>\n",
       "      <td>I avoid wearing shoes.</td>\n",
       "      <td>shoes</td>\n",
       "    </tr>\n",
       "    <tr>\n",
       "      <th>16</th>\n",
       "      <td>Books give me peace.</td>\n",
       "      <td>books</td>\n",
       "    </tr>\n",
       "    <tr>\n",
       "      <th>17</th>\n",
       "      <td>Shoes are hard to clean.</td>\n",
       "      <td>shoes</td>\n",
       "    </tr>\n",
       "    <tr>\n",
       "      <th>18</th>\n",
       "      <td>Books inspire creativity.</td>\n",
       "      <td>books</td>\n",
       "    </tr>\n",
       "    <tr>\n",
       "      <th>19</th>\n",
       "      <td>Shoes are noisy.</td>\n",
       "      <td>shoes</td>\n",
       "    </tr>\n",
       "  </tbody>\n",
       "</table>\n",
       "</div>"
      ],
      "text/plain": [
       "                         text sentiment\n",
       "0               I love books.     books\n",
       "1               I hate shoes.     shoes\n",
       "2            Books are great.     books\n",
       "3    Shoes are uncomfortable.     shoes\n",
       "4            Books bring joy.     books\n",
       "5        Shoes make me tired.     shoes\n",
       "6         I read books daily.     books\n",
       "7         Shoes hurt my feet.     shoes\n",
       "8       Reading books is fun.     books\n",
       "9        Shoes are too tight.     shoes\n",
       "10      Books are my passion.     books\n",
       "11    Shoes are not my style.     shoes\n",
       "12       Books help me learn.     books\n",
       "13       Shoes are expensive.     shoes\n",
       "14     I enjoy reading books.     books\n",
       "15     I avoid wearing shoes.     shoes\n",
       "16       Books give me peace.     books\n",
       "17   Shoes are hard to clean.     shoes\n",
       "18  Books inspire creativity.     books\n",
       "19           Shoes are noisy.     shoes"
      ]
     },
     "execution_count": 48,
     "metadata": {},
     "output_type": "execute_result"
    }
   ],
   "source": [
    "import pandas as pd\n",
    "\n",
    "class Category:\n",
    "    Books = 'books'\n",
    "    Shoes = 'shoes'\n",
    "\n",
    "data = pd.DataFrame({\n",
    "    'text': [\n",
    "        \"I love books.\", \n",
    "        \"I hate shoes.\", \n",
    "        \"Books are great.\", \n",
    "        \"Shoes are uncomfortable.\", \n",
    "        \"Books bring joy.\", \n",
    "        \"Shoes make me tired.\", \n",
    "        \"I read books daily.\", \n",
    "        \"Shoes hurt my feet.\", \n",
    "        \"Reading books is fun.\", \n",
    "        \"Shoes are too tight.\", \n",
    "        \"Books are my passion.\", \n",
    "        \"Shoes are not my style.\", \n",
    "        \"Books help me learn.\", \n",
    "        \"Shoes are expensive.\", \n",
    "        \"I enjoy reading books.\", \n",
    "        \"I avoid wearing shoes.\", \n",
    "        \"Books give me peace.\", \n",
    "        \"Shoes are hard to clean.\", \n",
    "        \"Books inspire creativity.\", \n",
    "        \"Shoes are noisy.\", \n",
    "    ],\n",
    "    'sentiment': [\n",
    "        Category.Books, \n",
    "        Category.Shoes, \n",
    "        Category.Books, \n",
    "        Category.Shoes, \n",
    "        Category.Books, \n",
    "        Category.Shoes, \n",
    "        Category.Books, \n",
    "        Category.Shoes, \n",
    "        Category.Books, \n",
    "        Category.Shoes, \n",
    "        Category.Books, \n",
    "        Category.Shoes, \n",
    "        Category.Books, \n",
    "        Category.Shoes, \n",
    "        Category.Books, \n",
    "        Category.Shoes, \n",
    "        Category.Books, \n",
    "        Category.Shoes, \n",
    "        Category.Books, \n",
    "        Category.Shoes, \n",
    "    ]\n",
    "})\n",
    "\n",
    "# Print the DataFrame\n",
    "data"
   ]
  },
  {
   "cell_type": "code",
   "execution_count": 53,
   "metadata": {},
   "outputs": [
    {
     "data": {
      "text/plain": [
       "1.0"
      ]
     },
     "execution_count": 53,
     "metadata": {},
     "output_type": "execute_result"
    }
   ],
   "source": [
    "from sklearn.feature_extraction.text import CountVectorizer\n",
    "from sklearn.model_selection import train_test_split\n",
    "from sklearn.linear_model import LogisticRegression\n",
    "\n",
    "vectorizer = CountVectorizer()\n",
    "X = vectorizer.fit_transform(data['text'])\n",
    "y = data['sentiment']\n",
    "\n",
    "X_train, X_test, y_train, y_test = train_test_split(X, y, test_size=0.2, random_state=42, stratify=y)\n",
    "\n",
    "model = LogisticRegression()\n",
    "model.fit(X_train, y_train)\n",
    "\n",
    "model.score(X_test, y_test)"
   ]
  },
  {
   "cell_type": "code",
   "execution_count": 54,
   "metadata": {},
   "outputs": [
    {
     "data": {
      "text/plain": [
       "array(['books', 'shoes', 'shoes', 'shoes', 'books', 'books'], dtype=object)"
      ]
     },
     "execution_count": 54,
     "metadata": {},
     "output_type": "execute_result"
    }
   ],
   "source": [
    "# Sample examples\n",
    "sample = ['I love books', 'I hate shoes', 'I love shoes', 'I Wear Red Shoes', 'I read macth books', 'Books are my best friends']\n",
    "sample_vector = vectorizer.transform(sample)\n",
    "model.predict(sample_vector)"
   ]
  },
  {
   "cell_type": "code",
   "execution_count": 56,
   "metadata": {},
   "outputs": [
    {
     "name": "stdout",
     "output_type": "stream",
     "text": [
      "['are' 'are expensive' 'are great' 'are hard' 'are my' 'are noisy'\n",
      " 'are not' 'are too' 'are uncomfortable' 'avoid' 'avoid wearing' 'books'\n",
      " 'books are' 'books bring' 'books daily' 'books give' 'books help'\n",
      " 'books inspire' 'books is' 'bring' 'bring joy' 'clean' 'creativity'\n",
      " 'daily' 'enjoy' 'enjoy reading' 'expensive' 'feet' 'fun' 'give' 'give me'\n",
      " 'great' 'hard' 'hard to' 'hate' 'hate shoes' 'help' 'help me' 'hurt'\n",
      " 'hurt my' 'inspire' 'inspire creativity' 'is' 'is fun' 'joy' 'learn'\n",
      " 'love' 'love books' 'make' 'make me' 'me' 'me learn' 'me peace'\n",
      " 'me tired' 'my' 'my feet' 'my passion' 'my style' 'noisy' 'not' 'not my'\n",
      " 'passion' 'peace' 'read' 'read books' 'reading' 'reading books' 'shoes'\n",
      " 'shoes are' 'shoes hurt' 'shoes make' 'style' 'tight' 'tired' 'to'\n",
      " 'to clean' 'too' 'too tight' 'uncomfortable' 'wearing' 'wearing shoes']\n",
      "[[0 0 0 ... 0 0 0]\n",
      " [0 0 0 ... 0 0 0]\n",
      " [1 0 1 ... 0 0 0]\n",
      " ...\n",
      " [1 0 0 ... 0 0 0]\n",
      " [0 0 0 ... 0 0 0]\n",
      " [1 0 0 ... 0 0 0]]\n"
     ]
    },
    {
     "data": {
      "text/plain": [
       "1.0"
      ]
     },
     "execution_count": 56,
     "metadata": {},
     "output_type": "execute_result"
    }
   ],
   "source": [
    "# Bigram\n",
    "vectorizer = CountVectorizer(ngram_range=(1, 2))\n",
    "X = vectorizer.fit_transform(data['text'])\n",
    "y = data['sentiment']\n",
    "print(vectorizer.get_feature_names_out())\n",
    "print(X.toarray())\n",
    "X_train, X_test, y_train, y_test = train_test_split(X, y, test_size=0.2, random_state=42, stratify=y)\n",
    "\n",
    "model = LogisticRegression()\n",
    "model.fit(X_train, y_train)\n",
    "\n",
    "model.score(X_test, y_test)"
   ]
  },
  {
   "cell_type": "code",
   "execution_count": 62,
   "metadata": {},
   "outputs": [
    {
     "data": {
      "text/plain": [
       "('books', 'shoes')"
      ]
     },
     "execution_count": 62,
     "metadata": {},
     "output_type": "execute_result"
    }
   ],
   "source": [
    "model.predict(vectorizer.transform([\"the shoe\"]))[0], model.predict(vectorizer.transform([\"the shoes\"]))[0]"
   ]
  },
  {
   "cell_type": "code",
   "execution_count": null,
   "metadata": {},
   "outputs": [],
   "source": []
  }
 ],
 "metadata": {
  "kernelspec": {
   "display_name": "eda",
   "language": "python",
   "name": "python3"
  },
  "language_info": {
   "codemirror_mode": {
    "name": "ipython",
    "version": 3
   },
   "file_extension": ".py",
   "mimetype": "text/x-python",
   "name": "python",
   "nbconvert_exporter": "python",
   "pygments_lexer": "ipython3",
   "version": "3.8.19"
  }
 },
 "nbformat": 4,
 "nbformat_minor": 2
}
